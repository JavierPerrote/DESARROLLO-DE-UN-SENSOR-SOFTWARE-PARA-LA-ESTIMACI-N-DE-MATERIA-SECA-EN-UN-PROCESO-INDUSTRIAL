{
  "nbformat": 4,
  "nbformat_minor": 0,
  "metadata": {
    "colab": {
      "provenance": [],
      "authorship_tag": "ABX9TyNn+T4ZbEEBYjrX2ifDB/t+",
      "include_colab_link": true
    },
    "kernelspec": {
      "name": "python3",
      "display_name": "Python 3"
    },
    "language_info": {
      "name": "python"
    }
  },
  "cells": [
    {
      "cell_type": "markdown",
      "metadata": {
        "id": "view-in-github",
        "colab_type": "text"
      },
      "source": [
        "<a href=\"https://colab.research.google.com/github/JavierPerrote/DESARROLLO-DE-UN-SENSOR-SOFTWARE-PARA-LA-ESTIMACION-DE-MATERIA-SECA-EN-UN-PROCESO-INDUSTRIAL/blob/main/Normalidad.ipynb\" target=\"_parent\"><img src=\"https://colab.research.google.com/assets/colab-badge.svg\" alt=\"Open In Colab\"/></a>"
      ]
    },
    {
      "cell_type": "code",
      "execution_count": 1,
      "metadata": {
        "id": "spzbT4u6_mUX"
      },
      "outputs": [],
      "source": [
        "import torch\n",
        "import pandas as pd\n",
        "from torch import nn\n",
        "from torch.utils.data import Dataset\n",
        "from torch.utils.data import DataLoader\n",
        "import matplotlib.pyplot as plt\n",
        "from IPython import display\n",
        "import numpy as np\n",
        "from sklearn.preprocessing import MinMaxScaler\n",
        "import math as math\n",
        "import scipy.signal\n",
        "import re\n",
        "import seaborn as sns\n",
        "from sklearn.metrics import mean_squared_error"
      ]
    },
    {
      "cell_type": "code",
      "source": [
        "dataFile = pd.read_csv('sensor.csv')"
      ],
      "metadata": {
        "id": "YL92tivx_uX0"
      },
      "execution_count": 10,
      "outputs": []
    },
    {
      "cell_type": "markdown",
      "source": [
        "KOLMOGOROV - SMIRNOV"
      ],
      "metadata": {
        "id": "2lSCkjIfnWqO"
      }
    },
    {
      "cell_type": "code",
      "source": [
        "import pandas as pd\n",
        "from scipy import stats\n",
        "\n",
        "\n",
        "\n",
        "# Crear una lista para almacenar los resultados del test de Kolmogorov-Smirnov\n",
        "resultados = []\n",
        "\n",
        "# Iterar sobre cada columna del DataFrame\n",
        "for columna in dataFile.columns:\n",
        "    # Realizar el test de Kolmogorov-Smirnov para la columna actual\n",
        "    stat, p_value = stats.kstest(dataFile[columna], 'norm')\n",
        "    resultados.append((columna, stat, p_value))\n",
        "\n",
        "# Crear un DataFrame con los resultados\n",
        "df_resultados = pd.DataFrame(resultados, columns=['Nombre', 'D', 'p -valor'])\n",
        "\n",
        "# Mostrar la tabla de resultados\n",
        "print(df_resultados)\n"
      ],
      "metadata": {
        "colab": {
          "base_uri": "https://localhost:8080/"
        },
        "id": "Xq2t1LgKnZ2W",
        "outputId": "c2d1c4a0-0f3a-47a7-8a15-0cfc421da12d"
      },
      "execution_count": 14,
      "outputs": [
        {
          "output_type": "stream",
          "name": "stdout",
          "text": [
            "              Nombre         D  p -valor\n",
            "0             Output  1.000000       0.0\n",
            "1           P_vah_e1  0.886979       0.0\n",
            "2           P_vah_e2  0.794119       0.0\n",
            "3           P_vah_e3  0.698966       0.0\n",
            "4           P_vah_e4  0.628165       0.0\n",
            "5           P_vah_e5  0.850624       0.0\n",
            "6           P_vah_e6  0.807109       0.0\n",
            "7           T_ent_e1  1.000000       0.0\n",
            "8      T_entrada_R10  1.000000       0.0\n",
            "9      T_entrada_R13  1.000000       0.0\n",
            "10     T_entrada_R14  1.000000       0.0\n",
            "11      T_entrada_R3  1.000000       0.0\n",
            "12     T_entrada_R3B  1.000000       0.0\n",
            "13      T_entrada_R8  1.000000       0.0\n",
            "14      T_entrada_R9  1.000000       0.0\n",
            "15   T_jugo_anteevap  1.000000       0.0\n",
            "16      T_salida_R10  1.000000       0.0\n",
            "17      T_salida_R11  1.000000       0.0\n",
            "18      T_salida_R12  1.000000       0.0\n",
            "19       T_salida_R3  1.000000       0.0\n",
            "20      T_salida_R3A  1.000000       0.0\n",
            "21      T_salida_R3B  1.000000       0.0\n",
            "22       T_salida_R4  1.000000       0.0\n",
            "23       T_salida_R5  1.000000       0.0\n",
            "24       T_salida_R6  1.000000       0.0\n",
            "25       T_salida_R7  1.000000       0.0\n",
            "26       T_salida_R8  1.000000       0.0\n",
            "27       T_salida_R9  1.000000       0.0\n",
            "28          T_vah_e1  1.000000       0.0\n",
            "29          T_vah_e2  1.000000       0.0\n",
            "30          T_vah_e3  1.000000       0.0\n",
            "31          T_vah_e4  1.000000       0.0\n",
            "32          T_vah_e5  1.000000       0.0\n",
            "33          T_vah_e6  1.000000       0.0\n",
            "34        T_vap_cald  1.000000       0.0\n",
            "35        W_jugo_R10  1.000000       0.0\n",
            "36         W_jugo_R3  0.999971       0.0\n",
            "37        W_jugo_R3B  1.000000       0.0\n",
            "38         W_jugo_R4  1.000000       0.0\n",
            "39         W_jugo_R8  1.000000       0.0\n",
            "40         W_jugo_R9  1.000000       0.0\n",
            "41   W_jugo_anteevap  1.000000       0.0\n",
            "42  W_jugo_salida_e6  1.000000       0.0\n",
            "43        W_vap_cald  1.000000       0.0\n",
            "44  e1_T_jugo_salida  1.000000       0.0\n",
            "45  e2_T_jugo_salida  1.000000       0.0\n",
            "46  e3_T_jugo_salida  1.000000       0.0\n",
            "47  e4_T_jugo_salida  1.000000       0.0\n",
            "48  e5_T_jugo_salida  1.000000       0.0\n",
            "49  e6_T_jugo_salida  1.000000       0.0\n",
            "50        p_vap_cald  0.927968       0.0\n"
          ]
        }
      ]
    },
    {
      "cell_type": "markdown",
      "source": [
        "PRESIONES DEL VAPOR"
      ],
      "metadata": {
        "id": "3N5FUJhTfzB3"
      }
    },
    {
      "cell_type": "code",
      "source": [
        "import math\n",
        "import matplotlib.pyplot as plt\n",
        "import scipy.stats as stats\n",
        "\n",
        "# presiones\n",
        "\n",
        "data = dataFile.loc[:,['Output','P_vah_e1','P_vah_e2','P_vah_e3','P_vah_e4','P_vah_e5','P_vah_e6','p_vap_cald']]\n",
        "\n",
        "nRowsG = math.ceil(len(data.columns) /2)\n",
        "ncolumnsG = 2\n",
        "fig, axs = plt.subplots(nRowsG, ncolumnsG, figsize=(20,15))\n",
        "fig.tight_layout(pad=3.0)\n",
        "\n",
        "for index, column in enumerate(data.columns):\n",
        "    stats.probplot(data[column], dist=\"norm\", plot=axs[index // ncolumnsG, index % ncolumnsG])\n",
        "    axs[index // ncolumnsG, index % ncolumnsG].set_title(column)\n",
        "    axs[index // ncolumnsG, index % ncolumnsG].set_xlabel('Valor esperado de la normal')\n",
        "    axs[index // ncolumnsG, index % ncolumnsG].set_ylabel('Valor observado')\n",
        "\n",
        "plt.show()"
      ],
      "metadata": {
        "id": "x7uO7KYRfyOR"
      },
      "execution_count": null,
      "outputs": []
    },
    {
      "cell_type": "markdown",
      "source": [
        "TEMPERATURAS DEL VAPOR"
      ],
      "metadata": {
        "id": "Rtot0cB1f5Th"
      }
    },
    {
      "cell_type": "code",
      "source": [
        "import math\n",
        "import matplotlib.pyplot as plt\n",
        "import scipy.stats as stats\n",
        "\n",
        "# presiones\n",
        "\n",
        "data = dataFile.loc[:,['T_vah_e1', 'T_vah_e2', 'T_vah_e3',\n",
        "       'T_vah_e4', 'T_vah_e5', 'T_vah_e6', 'T_vap_cald','T_ent_e1']]\n",
        "\n",
        "nRowsG = math.ceil(len(data.columns) /2)\n",
        "ncolumnsG = 2\n",
        "fig, axs = plt.subplots(nRowsG, ncolumnsG, figsize=(20,15))\n",
        "fig.tight_layout(pad=3.0)\n",
        "\n",
        "for index, column in enumerate(data.columns):\n",
        "    stats.probplot(data[column], dist=\"norm\", plot=axs[index // ncolumnsG, index % ncolumnsG])\n",
        "    axs[index // ncolumnsG, index % ncolumnsG].set_title(column)\n",
        "    axs[index // ncolumnsG, index % ncolumnsG].set_xlabel('Valor esperado de la normal')\n",
        "    axs[index // ncolumnsG, index % ncolumnsG].set_ylabel('Valor observado')\n",
        "\n",
        "plt.show()"
      ],
      "metadata": {
        "id": "We7G4EUxf6pT"
      },
      "execution_count": null,
      "outputs": []
    },
    {
      "cell_type": "markdown",
      "source": [
        "TEMPERATURAS DEL JUGO"
      ],
      "metadata": {
        "id": "zaaMGSrhf_ty"
      }
    },
    {
      "cell_type": "code",
      "source": [
        "import math\n",
        "import matplotlib.pyplot as plt\n",
        "import scipy.stats as stats\n",
        "\n",
        "# presiones\n",
        "\n",
        "data =  dataFile.loc[:,['e1_T_jugo_salida',\n",
        "'e2_T_jugo_salida', 'e3_T_jugo_salida', 'e4_T_jugo_salida',\n",
        "'e5_T_jugo_salida', 'e6_T_jugo_salida']]\n",
        "\n",
        "\n",
        "nRowsG = math.ceil(len(data.columns) /2)\n",
        "ncolumnsG = 2\n",
        "fig, axs = plt.subplots(nRowsG, ncolumnsG, figsize=(20,15))\n",
        "fig.tight_layout(pad=3.0)\n",
        "\n",
        "for index, column in enumerate(data.columns):\n",
        "    stats.probplot(data[column], dist=\"norm\", plot=axs[index // ncolumnsG, index % ncolumnsG])\n",
        "    axs[index // ncolumnsG, index % ncolumnsG].set_title(column)\n",
        "    axs[index // ncolumnsG, index % ncolumnsG].set_xlabel('Valor esperado de la normal')\n",
        "    axs[index // ncolumnsG, index % ncolumnsG].set_ylabel('Valor observado')\n",
        "\n",
        "plt.show()"
      ],
      "metadata": {
        "id": "6lsOLx2vgBWV"
      },
      "execution_count": null,
      "outputs": []
    },
    {
      "cell_type": "markdown",
      "source": [
        "TEMPERATURA CAMBIADORES DE CALOR"
      ],
      "metadata": {
        "id": "01UBxQcYgGed"
      }
    },
    {
      "cell_type": "code",
      "source": [
        "import math\n",
        "import matplotlib.pyplot as plt\n",
        "import scipy.stats as stats\n",
        "\n",
        "# presiones\n",
        "\n",
        "\n",
        "data = dataFile.loc[:,['T_entrada_R10', 'T_entrada_R13',\n",
        "       'T_entrada_R14', 'T_entrada_R3', 'T_entrada_R3B', 'T_entrada_R8',\n",
        "       'T_entrada_R9', 'T_jugo_anteevap']]\n",
        "\n",
        "\n",
        "nRowsG = math.ceil(len(data.columns) /2)\n",
        "ncolumnsG = 2\n",
        "fig, axs = plt.subplots(nRowsG, ncolumnsG, figsize=(20,15))\n",
        "fig.tight_layout(pad=3.0)\n",
        "\n",
        "for index, column in enumerate(data.columns):\n",
        "    stats.probplot(data[column], dist=\"norm\", plot=axs[index // ncolumnsG, index % ncolumnsG])\n",
        "    axs[index // ncolumnsG, index % ncolumnsG].set_title(column)\n",
        "    axs[index // ncolumnsG, index % ncolumnsG].set_xlabel('Valor esperado de la normal')\n",
        "    axs[index // ncolumnsG, index % ncolumnsG].set_ylabel('Valor observado')\n",
        "\n",
        "plt.show()"
      ],
      "metadata": {
        "id": "WnEUOak4gIrc"
      },
      "execution_count": null,
      "outputs": []
    },
    {
      "cell_type": "code",
      "source": [
        "import math\n",
        "import matplotlib.pyplot as plt\n",
        "import scipy.stats as stats\n",
        "\n",
        "# presiones\n",
        "\n",
        "\n",
        "data = dataFile.loc[:,[ 'T_salida_R10', 'T_salida_R11',\n",
        "       'T_salida_R12', 'T_salida_R3', 'T_salida_R3A', 'T_salida_R3B']]\n",
        "\n",
        "\n",
        "\n",
        "nRowsG = math.ceil(len(data.columns) /2)\n",
        "ncolumnsG = 2\n",
        "fig, axs = plt.subplots(nRowsG, ncolumnsG, figsize=(20,15))\n",
        "fig.tight_layout(pad=3.0)\n",
        "\n",
        "for index, column in enumerate(data.columns):\n",
        "    stats.probplot(data[column], dist=\"norm\", plot=axs[index // ncolumnsG, index % ncolumnsG])\n",
        "    axs[index // ncolumnsG, index % ncolumnsG].set_title(column)\n",
        "    axs[index // ncolumnsG, index % ncolumnsG].set_xlabel('Valor esperado de la normal')\n",
        "    axs[index // ncolumnsG, index % ncolumnsG].set_ylabel('Valor observado')\n",
        "\n",
        "plt.show()"
      ],
      "metadata": {
        "id": "ySdiFRAmYWOF"
      },
      "execution_count": null,
      "outputs": []
    },
    {
      "cell_type": "code",
      "source": [
        "import math\n",
        "import matplotlib.pyplot as plt\n",
        "import scipy.stats as stats\n",
        "\n",
        "# presiones\n",
        "\n",
        "\n",
        "data = dataFile.loc[:,[\n",
        "       'T_salida_R4', 'T_salida_R5', 'T_salida_R6', 'T_salida_R7',\n",
        "       'T_salida_R8', 'T_salida_R9']]\n",
        "\n",
        "\n",
        "nRowsG = math.ceil(len(data.columns) /2)\n",
        "ncolumnsG = 2\n",
        "fig, axs = plt.subplots(nRowsG, ncolumnsG, figsize=(20,15))\n",
        "fig.tight_layout(pad=3.0)\n",
        "\n",
        "for index, column in enumerate(data.columns):\n",
        "    stats.probplot(data[column], dist=\"norm\", plot=axs[index // ncolumnsG, index % ncolumnsG])\n",
        "    axs[index // ncolumnsG, index % ncolumnsG].set_title(column)\n",
        "    axs[index // ncolumnsG, index % ncolumnsG].set_xlabel('Valor esperado de la normal')\n",
        "    axs[index // ncolumnsG, index % ncolumnsG].set_ylabel('Valor observado')\n",
        "\n",
        "plt.show()"
      ],
      "metadata": {
        "id": "o7Y-tC5_YdXV"
      },
      "execution_count": null,
      "outputs": []
    },
    {
      "cell_type": "markdown",
      "source": [
        "FLUJOS MASICOS"
      ],
      "metadata": {
        "id": "qWITls1rgRbq"
      }
    },
    {
      "cell_type": "code",
      "source": [
        "import math\n",
        "import matplotlib.pyplot as plt\n",
        "import scipy.stats as stats\n",
        "\n",
        "# presiones\n",
        "data =  dataFile.loc[:,['W_jugo_R10', 'W_jugo_R3', 'W_jugo_R3B', 'W_jugo_R4', 'W_jugo_R8', 'W_jugo_R9', 'W_jugo_anteevap', 'W_jugo_salida_e6', 'W_vap_cald']]\n",
        "\n",
        "nRowsG = math.ceil(len(data.columns) /2)\n",
        "ncolumnsG = 2\n",
        "fig, axs = plt.subplots(nRowsG, ncolumnsG, figsize=(20,15))\n",
        "fig.tight_layout(pad=3.0)\n",
        "\n",
        "for index, column in enumerate(data.columns):\n",
        "    stats.probplot(data[column], dist=\"norm\", plot=axs[index // ncolumnsG, index % ncolumnsG])\n",
        "    axs[index // ncolumnsG, index % ncolumnsG].set_title(column)\n",
        "    axs[index // ncolumnsG, index % ncolumnsG].set_xlabel('Valor esperado de la normal')\n",
        "    axs[index // ncolumnsG, index % ncolumnsG].set_ylabel('Valor observado')\n",
        "\n",
        "plt.show()\n",
        "\n",
        "\n"
      ],
      "metadata": {
        "id": "fj9XMl3_AEp3"
      },
      "execution_count": null,
      "outputs": []
    }
  ]
}